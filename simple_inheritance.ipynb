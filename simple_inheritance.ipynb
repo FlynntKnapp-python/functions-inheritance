{
 "cells": [
  {
   "cell_type": "markdown",
   "id": "d547d994-3d16-4298-8d61-c346d7ac216c",
   "metadata": {},
   "source": [
    "# Simple Inheritance"
   ]
  },
  {
   "cell_type": "markdown",
   "id": "5c0f14e8-2529-4fbe-8e7f-cb016794cbe5",
   "metadata": {},
   "source": [
    "## Simple `Container` Class with Two Instance Variables"
   ]
  },
  {
   "cell_type": "code",
   "execution_count": 7,
   "id": "ff5fc120-37bd-422b-850e-46cdf03f1f85",
   "metadata": {},
   "outputs": [],
   "source": [
    "class Container(object):\n",
    "    \"\"\"\n",
    "    A simple container class.\n",
    "    \"\"\"\n",
    "\n",
    "    def __init__(self, desc, volume):\n",
    "        self.desc = desc\n",
    "        self.volume = volume\n",
    "\n",
    "    def __str__(self):\n",
    "        return f\"{self.desc} with volume of {self.volume}.\""
   ]
  },
  {
   "cell_type": "code",
   "execution_count": 8,
   "id": "b188a71a-844c-4b00-b930-23a0551931c3",
   "metadata": {},
   "outputs": [
    {
     "name": "stdout",
     "output_type": "stream",
     "text": [
      "Bottle with volume of 20.\n",
      "Can with volume of 12.\n"
     ]
    }
   ],
   "source": [
    "simple_bottle = Container(\"Bottle\", 20)\n",
    "print(simple_bottle)\n",
    "\n",
    "simple_can = Container(\"Can\", 12)\n",
    "print(simple_can)"
   ]
  },
  {
   "cell_type": "markdown",
   "id": "2cd1d0fb-681d-4a9e-b09a-1a5c6da972bb",
   "metadata": {},
   "source": [
    "## Create `ContainerWithLabel` by Inheriting `Container`\n",
    "\n",
    "- We put the parent class in the parentheses in order to inherit it."
   ]
  },
  {
   "cell_type": "code",
   "execution_count": 9,
   "id": "91983eec-85bb-4528-a7e5-fa058b73f77d",
   "metadata": {},
   "outputs": [],
   "source": [
    "class ContainerWithLabel(Container):\n",
    "    \"\"\"\n",
    "    A simple container with a label.\n",
    "    \"\"\"\n",
    "\n",
    "    def __init__(self, desc, volume, label):\n",
    "        super().__init__(desc, volume)\n",
    "        self.label = label\n",
    "\n",
    "    def __str__(self):\n",
    "        return f\"{self.desc} with volume of {self.volume} and a label of {self.label}.\""
   ]
  },
  {
   "cell_type": "code",
   "execution_count": 10,
   "id": "61c9e012-9f22-4743-9175-1df3502859cc",
   "metadata": {},
   "outputs": [
    {
     "name": "stdout",
     "output_type": "stream",
     "text": [
      "Can with volume of 12 and a label of Kaja Kola!.\n"
     ]
    }
   ],
   "source": [
    "container_with_label = ContainerWithLabel(\"Can\", 12, \"Kaja Kola!\")\n",
    "print(container_with_label)"
   ]
  },
  {
   "cell_type": "markdown",
   "id": "48486312-26e8-44f6-b416-f71e189d47e5",
   "metadata": {},
   "source": [
    "## Add `paint_color` Instance Variable to "
   ]
  },
  {
   "cell_type": "code",
   "execution_count": 12,
   "id": "8eeb2ee9-1ef9-4020-9cad-ae1b4fb13467",
   "metadata": {},
   "outputs": [],
   "source": [
    "class PaintedContainerWithLabel(ContainerWithLabel):\n",
    "    \"\"\"\n",
    "    A simple container with a label and paint.\n",
    "    \"\"\"\n",
    "\n",
    "    def __init__(self, desc, volume, label, paint_color):\n",
    "        super().__init__(desc, volume, label)\n",
    "        self.paint_color = paint_color\n",
    "\n",
    "    def __str__(self):\n",
    "        return f\"{self.desc} with volume of {self.volume}, a label of {self.label}, and painted {self.paint_color}.\""
   ]
  },
  {
   "cell_type": "code",
   "execution_count": 13,
   "id": "118d3bae-ca25-4fe9-9d79-b9f031d23f88",
   "metadata": {},
   "outputs": [
    {
     "name": "stdout",
     "output_type": "stream",
     "text": [
      "Can with volume of 12, a label of Kaja Kola!, and painted Chartreuse.\n"
     ]
    }
   ],
   "source": [
    "painted_container_with_label = PaintedContainerWithLabel(\n",
    "    \"Can\", 12, \"Kaja Kola!\", \"Chartreuse\"\n",
    ")\n",
    "print(painted_container_with_label)"
   ]
  },
  {
   "cell_type": "code",
   "execution_count": null,
   "id": "74621327-a8a9-4b32-8c57-4020be9e60b2",
   "metadata": {},
   "outputs": [],
   "source": []
  }
 ],
 "metadata": {
  "kernelspec": {
   "display_name": "Python 3 (ipykernel)",
   "language": "python",
   "name": "python3"
  },
  "language_info": {
   "codemirror_mode": {
    "name": "ipython",
    "version": 3
   },
   "file_extension": ".py",
   "mimetype": "text/x-python",
   "name": "python",
   "nbconvert_exporter": "python",
   "pygments_lexer": "ipython3",
   "version": "3.12.1"
  }
 },
 "nbformat": 4,
 "nbformat_minor": 5
}
